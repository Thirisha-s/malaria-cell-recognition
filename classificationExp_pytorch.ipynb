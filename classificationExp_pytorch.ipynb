{
  "cells": [
    {
      "cell_type": "code",
      "execution_count": null,
      "id": "3624a4a0",
      "metadata": {
        "id": "3624a4a0"
      },
      "outputs": [],
      "source": [
        "import os\n",
        "import torch\n",
        "import torch.nn as nn\n",
        "import torch.optim as optim\n",
        "from torchvision import datasets, transforms\n",
        "from torch.utils.data import DataLoader\n",
        "from sklearn.metrics import classification_report, confusion_matrix\n",
        "import matplotlib.pyplot as plt\n",
        "import numpy as np\n",
        "import pandas as pd"
      ]
    },
    {
      "cell_type": "code",
      "execution_count": null,
      "id": "2e3dc8da",
      "metadata": {
        "id": "2e3dc8da"
      },
      "outputs": [],
      "source": [
        "# Dataset paths\n",
        "data_dir = './dataset/cell_images'\n",
        "train_dir = os.path.join(data_dir, 'train')\n",
        "test_dir = os.path.join(data_dir, 'test')\n"
      ]
    },
    {
      "cell_type": "code",
      "execution_count": null,
      "id": "c13d453d",
      "metadata": {
        "id": "c13d453d"
      },
      "outputs": [],
      "source": [
        "os.listdir(train_dir)"
      ]
    },
    {
      "cell_type": "code",
      "execution_count": null,
      "id": "dd8eb8c4",
      "metadata": {
        "id": "dd8eb8c4"
      },
      "outputs": [],
      "source": [
        "len(os.listdir(train_dir+'/uninfected/'))"
      ]
    },
    {
      "cell_type": "code",
      "execution_count": null,
      "id": "76f1b391",
      "metadata": {
        "id": "76f1b391"
      },
      "outputs": [],
      "source": [
        "len(os.listdir(train_dir+'/parasitized/'))"
      ]
    },
    {
      "cell_type": "code",
      "execution_count": null,
      "id": "7ed70301",
      "metadata": {
        "id": "7ed70301"
      },
      "outputs": [],
      "source": [
        "import matplotlib.pyplot as plt\n",
        "from matplotlib.image import imread"
      ]
    },
    {
      "cell_type": "code",
      "execution_count": null,
      "id": "e53a077c",
      "metadata": {
        "id": "e53a077c"
      },
      "outputs": [],
      "source": [
        "# Checking the image dimensions\n",
        "dim1 = []\n",
        "dim2 = []\n",
        "for image_filename in os.listdir(test_dir+'/uninfected'):\n",
        "    img = imread(test_dir+'/uninfected'+'/'+image_filename)\n",
        "    d1,d2,colors = img.shape\n",
        "    dim1.append(d1)\n",
        "    dim2.append(d2)"
      ]
    },
    {
      "cell_type": "code",
      "execution_count": null,
      "id": "11991d26",
      "metadata": {
        "id": "11991d26"
      },
      "outputs": [],
      "source": [
        "sns.jointplot(x=dim1,y=dim2)"
      ]
    },
    {
      "cell_type": "code",
      "execution_count": null,
      "id": "6f6f9b1d",
      "metadata": {
        "id": "6f6f9b1d"
      },
      "outputs": [],
      "source": [
        "# Parameters\n",
        "image_size = (130, 130)\n",
        "batch_size = 16\n",
        "num_epochs = 5\n",
        "device = torch.device(\"cuda\" if torch.cuda.is_available() else \"cpu\")"
      ]
    },
    {
      "cell_type": "code",
      "execution_count": null,
      "id": "95ebbece",
      "metadata": {
        "id": "95ebbece"
      },
      "outputs": [],
      "source": [
        "# Data transforms\n",
        "train_transforms = transforms.Compose([\n",
        "    transforms.Resize(image_size),\n",
        "    transforms.RandomRotation(20),\n",
        "    transforms.RandomAffine(degrees=0, shear=10, scale=(0.9, 1.1)),\n",
        "    transforms.RandomHorizontalFlip(),\n",
        "    transforms.ToTensor()\n",
        "])\n",
        "\n",
        "test_transforms = transforms.Compose([\n",
        "    transforms.Resize(image_size),\n",
        "    transforms.ToTensor()\n",
        "])\n"
      ]
    },
    {
      "cell_type": "code",
      "execution_count": null,
      "id": "23e4b99f",
      "metadata": {
        "id": "23e4b99f"
      },
      "outputs": [],
      "source": [
        "# Data loaders\n",
        "train_data = datasets.ImageFolder(train_dir, transform=train_transforms)\n",
        "test_data = datasets.ImageFolder(test_dir, transform=test_transforms)\n",
        "train_loader = DataLoader(train_data, batch_size=batch_size, shuffle=True)\n",
        "test_loader = DataLoader(test_data, batch_size=batch_size, shuffle=False)\n"
      ]
    },
    {
      "cell_type": "code",
      "execution_count": null,
      "id": "1b549402",
      "metadata": {
        "id": "1b549402"
      },
      "outputs": [],
      "source": [
        "# Write your code here\n",
        "\n",
        "class CNNClassifier(nn.Module):\n",
        "    def __init__(self, input_channels=3, input_height=130, input_width=130):\n",
        "        super(CNNClassifier, self).__init__()\n",
        "        # Write your code here\n",
        "\n",
        "\n",
        "\n",
        "\n",
        "\n",
        "    def forward(self, x):\n",
        "        # Write your code here\n",
        "\n",
        "\n",
        "\n",
        ""
      ]
    },
    {
      "cell_type": "code",
      "execution_count": null,
      "id": "7aa656c1",
      "metadata": {
        "id": "7aa656c1"
      },
      "outputs": [],
      "source": [
        "model = CNNClassifier(input_channels=3, input_height=130, input_width=130).to(device)\n",
        "\n",
        "criterion = nn.BCELoss()\n",
        "optimizer = optim.Adam(model.parameters())\n"
      ]
    },
    {
      "cell_type": "code",
      "execution_count": null,
      "id": "2176c4dc",
      "metadata": {
        "id": "2176c4dc"
      },
      "outputs": [],
      "source": [
        "# Function to Train the Model\n",
        "def train_model(model, train_loader, test_loader, criterion, optimizer, epochs):\n",
        "    train_losses, val_losses = [], []\n",
        "    for epoch in range(epochs):\n",
        "        model.train()\n",
        "        # write Your code here\n",
        "\n",
        "\n",
        "\n",
        "\n",
        "\n",
        "\n",
        "\n",
        "        model.eval()\n",
        "        # write Your code here\n",
        "\n",
        "\n",
        "\n",
        "\n",
        "\n",
        "\n",
        "\n",
        "\n",
        "        print(f\"Epoch [{epoch+1}/{epochs}] → Train Loss: {train_losses[-1]:.4f}, Val Loss: {val_losses[-1]:.4f}\")\n",
        "\n",
        "    # Plot loss\n",
        "    print('Name:             ')\n",
        "    print('Register Number:         ')\n",
        "    plt.plot(train_losses, label='Train Loss')\n",
        "    plt.plot(val_losses, label='Val Loss')\n",
        "    plt.legend()\n",
        "    plt.title('Training and Validation Loss')\n",
        "    plt.xlabel('Epoch')\n",
        "    plt.ylabel('Loss')\n",
        "    plt.show()\n",
        "    return train_losses, val_losses\n"
      ]
    },
    {
      "cell_type": "code",
      "execution_count": null,
      "id": "85852186",
      "metadata": {
        "id": "85852186"
      },
      "outputs": [],
      "source": [
        "# Run the experiment\n",
        "# Train the model\n",
        "# Write Your Code Here\n",
        "\n",
        "\n",
        "torch.save(model.state_dict(), 'cell_model.pth')\n"
      ]
    },
    {
      "cell_type": "code",
      "execution_count": null,
      "id": "ae875732",
      "metadata": {
        "id": "ae875732"
      },
      "outputs": [],
      "source": [
        "import seaborn as sns"
      ]
    },
    {
      "cell_type": "code",
      "execution_count": null,
      "id": "525fb5a3",
      "metadata": {
        "id": "525fb5a3"
      },
      "outputs": [],
      "source": [
        "def evaluate_model(model, test_loader, test_data):\n",
        "    model.eval()\n",
        "    correct = 0\n",
        "    total = 0\n",
        "    all_preds = []\n",
        "    all_labels = []\n",
        "\n",
        "    with torch.no_grad():\n",
        "        for X, y in test_loader:\n",
        "            X, y = X.to(device), y.to(device).float().unsqueeze(1)  # Ensure float for binary targets\n",
        "            output = model(X)\n",
        "            predicted = (output > 0.5).int()  # Binary prediction\n",
        "            total += y.size(0)\n",
        "            correct += (predicted == y.int()).sum().item()\n",
        "            all_preds.extend(predicted.cpu().numpy())\n",
        "            all_labels.extend(y.cpu().numpy())\n",
        "\n",
        "    accuracy = correct / total\n",
        "    print(f'Test Accuracy: {accuracy:.4f}')\n",
        "\n",
        "    # Confusion Matrix\n",
        "    cm = confusion_matrix(all_labels, all_preds)\n",
        "    class_names = test_data.classes  # ['parasitized', 'uninfected']\n",
        "\n",
        "    print('Name:             ')\n",
        "    print('Register Number:         ')\n",
        "    plt.figure(figsize=(6, 5))\n",
        "    sns.heatmap(cm, annot=True, fmt='d', cmap='Blues', xticklabels=class_names, yticklabels=class_names)\n",
        "    plt.xlabel('Predicted')\n",
        "    plt.ylabel('Actual')\n",
        "    plt.title('Confusion Matrix')\n",
        "    plt.show()\n",
        "\n",
        "    # Classification Report\n",
        "    print('Name:             ')\n",
        "    print('Register Number:         ')\n",
        "    print(\"Classification Report:\")\n",
        "    print(classification_report(all_labels, all_preds, target_names=class_names))\n",
        "\n"
      ]
    },
    {
      "cell_type": "code",
      "execution_count": null,
      "id": "c3c72c17",
      "metadata": {
        "id": "c3c72c17"
      },
      "outputs": [],
      "source": [
        "evaluate_model(model, test_loader, test_data)"
      ]
    },
    {
      "cell_type": "code",
      "execution_count": null,
      "id": "ae4be832",
      "metadata": {
        "id": "ae4be832"
      },
      "outputs": [],
      "source": [
        "import matplotlib.pyplot as plt\n",
        "\n",
        "def predict_image(model, image_index, dataset, image_size=(130, 130)):\n",
        "    model.eval()\n",
        "    image, label = dataset[image_index]  # image is already transformed\n",
        "    with torch.no_grad():\n",
        "        output = model(image.unsqueeze(0).to(device))  # Add batch dimension\n",
        "        predicted = (output > 0.5).int()\n",
        "\n",
        "    class_names = dataset.classes  # ['parasitized', 'uninfected']\n",
        "\n",
        "    # Convert tensor image to numpy for plotting\n",
        "    img_np = image.permute(1, 2, 0).cpu().numpy()  # (C, H, W) -> (H, W, C)\n",
        "\n",
        "    # Display the image\n",
        "    print('Name:             ')\n",
        "    print('Register Number:         ')\n",
        "    plt.imshow(img_np)\n",
        "    plt.title(f'Actual: {class_names[label]}\\nPredicted: {class_names[predicted.item()]}')\n",
        "    plt.axis(\"off\")\n",
        "    plt.show()\n",
        "\n"
      ]
    },
    {
      "cell_type": "code",
      "execution_count": null,
      "id": "a2ebadfb",
      "metadata": {
        "id": "a2ebadfb"
      },
      "outputs": [],
      "source": [
        "predict_image(model, image_index=5, dataset=test_data)"
      ]
    },
    {
      "cell_type": "code",
      "execution_count": null,
      "id": "38112d75",
      "metadata": {
        "id": "38112d75"
      },
      "outputs": [],
      "source": [
        "predict_image(model, image_index=1500, dataset=test_data)"
      ]
    },
    {
      "cell_type": "code",
      "execution_count": null,
      "id": "73e62d5e",
      "metadata": {
        "id": "73e62d5e"
      },
      "outputs": [],
      "source": [
        "predict_image(model, image_index=1800, dataset=test_data)"
      ]
    }
  ],
  "metadata": {
    "kernelspec": {
      "display_name": "Python 3 (ipykernel)",
      "language": "python",
      "name": "python3"
    },
    "language_info": {
      "codemirror_mode": {
        "name": "ipython",
        "version": 3
      },
      "file_extension": ".py",
      "mimetype": "text/x-python",
      "name": "python",
      "nbconvert_exporter": "python",
      "pygments_lexer": "ipython3",
      "version": "3.10.12"
    },
    "colab": {
      "provenance": []
    }
  },
  "nbformat": 4,
  "nbformat_minor": 5
}